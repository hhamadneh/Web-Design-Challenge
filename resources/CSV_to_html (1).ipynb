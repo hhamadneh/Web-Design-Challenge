{
 "cells": [
  {
   "cell_type": "code",
   "execution_count": 10,
   "metadata": {},
   "outputs": [],
   "source": [
    "import pandas as pd"
   ]
  },
  {
   "cell_type": "code",
   "execution_count": 14,
   "metadata": {},
   "outputs": [
    {
     "data": {
      "text/html": [
       "<div>\n",
       "<style scoped>\n",
       "    .dataframe tbody tr th:only-of-type {\n",
       "        vertical-align: middle;\n",
       "    }\n",
       "\n",
       "    .dataframe tbody tr th {\n",
       "        vertical-align: top;\n",
       "    }\n",
       "\n",
       "    .dataframe thead th {\n",
       "        text-align: right;\n",
       "    }\n",
       "</style>\n",
       "<table border=\"1\" class=\"dataframe\">\n",
       "  <thead>\n",
       "    <tr style=\"text-align: right;\">\n",
       "      <th></th>\n",
       "      <th></th>\n",
       "      <th></th>\n",
       "      <th></th>\n",
       "      <th></th>\n",
       "      <th></th>\n",
       "      <th></th>\n",
       "      <th></th>\n",
       "      <th></th>\n",
       "      <th></th>\n",
       "    </tr>\n",
       "    <tr>\n",
       "      <th>City_ID</th>\n",
       "      <th>City</th>\n",
       "      <th>Cloudiness</th>\n",
       "      <th>Country</th>\n",
       "      <th>Date</th>\n",
       "      <th>Humidity</th>\n",
       "      <th>Lat</th>\n",
       "      <th>Lng</th>\n",
       "      <th>Max Temp</th>\n",
       "      <th>Wind Speed</th>\n",
       "    </tr>\n",
       "  </thead>\n",
       "  <tbody>\n",
       "    <tr>\n",
       "      <th>0</th>\n",
       "      <th>jacareacanga</th>\n",
       "      <th>0</th>\n",
       "      <th>BR</th>\n",
       "      <th>1528902000</th>\n",
       "      <th>62</th>\n",
       "      <th>-6.22</th>\n",
       "      <th>-57.76</th>\n",
       "      <th>89.60</th>\n",
       "      <th>6.93</th>\n",
       "    </tr>\n",
       "    <tr>\n",
       "      <th>1</th>\n",
       "      <th>kaitangata</th>\n",
       "      <th>100</th>\n",
       "      <th>NZ</th>\n",
       "      <th>1528905304</th>\n",
       "      <th>94</th>\n",
       "      <th>-46.28</th>\n",
       "      <th>169.85</th>\n",
       "      <th>42.61</th>\n",
       "      <th>5.64</th>\n",
       "    </tr>\n",
       "    <tr>\n",
       "      <th>2</th>\n",
       "      <th>goulburn</th>\n",
       "      <th>20</th>\n",
       "      <th>AU</th>\n",
       "      <th>1528905078</th>\n",
       "      <th>91</th>\n",
       "      <th>-34.75</th>\n",
       "      <th>149.72</th>\n",
       "      <th>44.32</th>\n",
       "      <th>10.11</th>\n",
       "    </tr>\n",
       "    <tr>\n",
       "      <th>3</th>\n",
       "      <th>lata</th>\n",
       "      <th>76</th>\n",
       "      <th>IN</th>\n",
       "      <th>1528905305</th>\n",
       "      <th>89</th>\n",
       "      <th>30.78</th>\n",
       "      <th>78.62</th>\n",
       "      <th>59.89</th>\n",
       "      <th>0.94</th>\n",
       "    </tr>\n",
       "    <tr>\n",
       "      <th>4</th>\n",
       "      <th>chokurdakh</th>\n",
       "      <th>0</th>\n",
       "      <th>RU</th>\n",
       "      <th>1528905306</th>\n",
       "      <th>88</th>\n",
       "      <th>70.62</th>\n",
       "      <th>147.90</th>\n",
       "      <th>32.17</th>\n",
       "      <th>2.95</th>\n",
       "    </tr>\n",
       "  </tbody>\n",
       "</table>\n",
       "</div>"
      ],
      "text/plain": [
       "Empty DataFrame\n",
       "Columns: []\n",
       "Index: [(0, jacareacanga, 0, BR, 1528902000, 62, -6.22, -57.76, 89.6, 6.93), (1, kaitangata, 100, NZ, 1528905304, 94, -46.28, 169.85, 42.61, 5.64), (2, goulburn, 20, AU, 1528905078, 91, -34.75, 149.72, 44.32, 10.11), (3, lata, 76, IN, 1528905305, 89, 30.78, 78.62, 59.89, 0.94), (4, chokurdakh, 0, RU, 1528905306, 88, 70.62, 147.9, 32.17, 2.95)]"
      ]
     },
     "execution_count": 14,
     "metadata": {},
     "output_type": "execute_result"
    }
   ],
   "source": [
    "df = pd.read_csv('cities.csv')\n",
    "df.set_index(['City_ID','City','Cloudiness','Country','Date','Humidity','Lat','Lng','Max Temp','Wind Speed'],inplace=True)\n",
    "\n",
    "df.head()"
   ]
  },
  {
   "cell_type": "code",
   "execution_count": 15,
   "metadata": {},
   "outputs": [],
   "source": [
    "df.to_html('cities.html')"
   ]
  },
  {
   "cell_type": "code",
   "execution_count": null,
   "metadata": {},
   "outputs": [],
   "source": []
  }
 ],
 "metadata": {
  "kernelspec": {
   "display_name": "Python 3",
   "language": "python",
   "name": "python3"
  },
  "language_info": {
   "codemirror_mode": {
    "name": "ipython",
    "version": 3
   },
   "file_extension": ".py",
   "mimetype": "text/x-python",
   "name": "python",
   "nbconvert_exporter": "python",
   "pygments_lexer": "ipython3",
   "version": "3.8.3"
  }
 },
 "nbformat": 4,
 "nbformat_minor": 4
}
